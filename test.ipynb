{
 "cells": [
  {
   "cell_type": "markdown",
   "metadata": {},
   "source": [
    "# Test Project"
   ]
  },
  {
   "cell_type": "code",
   "execution_count": 1,
   "metadata": {},
   "outputs": [],
   "source": [
    "import pandas as pd"
   ]
  },
  {
   "cell_type": "code",
   "execution_count": 10,
   "metadata": {},
   "outputs": [],
   "source": [
    "df_1 = pd.read_csv('resources/IUDigital_dirty_improved.csv')"
   ]
  },
  {
   "cell_type": "code",
   "execution_count": 11,
   "metadata": {},
   "outputs": [
    {
     "data": {
      "text/html": [
       "<div>\n",
       "<style scoped>\n",
       "    .dataframe tbody tr th:only-of-type {\n",
       "        vertical-align: middle;\n",
       "    }\n",
       "\n",
       "    .dataframe tbody tr th {\n",
       "        vertical-align: top;\n",
       "    }\n",
       "\n",
       "    .dataframe thead th {\n",
       "        text-align: right;\n",
       "    }\n",
       "</style>\n",
       "<table border=\"1\" class=\"dataframe\">\n",
       "  <thead>\n",
       "    <tr style=\"text-align: right;\">\n",
       "      <th></th>\n",
       "      <th>AÑO</th>\n",
       "      <th>SEMESTRE</th>\n",
       "      <th>SEXO BIOLOGICO</th>\n",
       "      <th>PROGRAMA</th>\n",
       "      <th>PAIS NACIMIENTO</th>\n",
       "      <th>DEPARTAMENTO NACIMIENTO</th>\n",
       "      <th>MUNICIPIO NACIMIENTO</th>\n",
       "      <th>NUMERO MATERIAS INSCRITAS</th>\n",
       "      <th>NUMERO MATERIAS APROBADAS</th>\n",
       "      <th>NIVEL_ACADEMICO</th>\n",
       "      <th>ESTRATO</th>\n",
       "      <th>ESTUDIANTE_ID</th>\n",
       "      <th>DESERCION</th>\n",
       "    </tr>\n",
       "  </thead>\n",
       "  <tbody>\n",
       "    <tr>\n",
       "      <th>0</th>\n",
       "      <td>2024</td>\n",
       "      <td>1</td>\n",
       "      <td>M</td>\n",
       "      <td>ADMINISTRACIÓN DE EMPRESAS</td>\n",
       "      <td>Colombia</td>\n",
       "      <td>Antioquia</td>\n",
       "      <td>Medellín</td>\n",
       "      <td>7.0</td>\n",
       "      <td>5.0</td>\n",
       "      <td>Pregrado</td>\n",
       "      <td>2</td>\n",
       "      <td>05aa3593</td>\n",
       "      <td>1.0</td>\n",
       "    </tr>\n",
       "    <tr>\n",
       "      <th>1</th>\n",
       "      <td>2024</td>\n",
       "      <td>1</td>\n",
       "      <td>M</td>\n",
       "      <td>Ingeniería de Software y Datos</td>\n",
       "      <td>Colombia</td>\n",
       "      <td>Norte de Santander</td>\n",
       "      <td>San José de Cúcuta</td>\n",
       "      <td>5.0</td>\n",
       "      <td>5.0</td>\n",
       "      <td>Pregrado</td>\n",
       "      <td>2</td>\n",
       "      <td>ca26aead</td>\n",
       "      <td>0.0</td>\n",
       "    </tr>\n",
       "    <tr>\n",
       "      <th>2</th>\n",
       "      <td>2024</td>\n",
       "      <td>1</td>\n",
       "      <td>F</td>\n",
       "      <td>ADMINISTRACIÓN DE EMPRESAS TURÍSTICAS Y HOTELERAS</td>\n",
       "      <td>Colombia</td>\n",
       "      <td>Magdalena</td>\n",
       "      <td>Plato</td>\n",
       "      <td>6.0</td>\n",
       "      <td>3.0</td>\n",
       "      <td>Pregrado</td>\n",
       "      <td>1</td>\n",
       "      <td>220d3011</td>\n",
       "      <td>0.0</td>\n",
       "    </tr>\n",
       "    <tr>\n",
       "      <th>3</th>\n",
       "      <td>2024</td>\n",
       "      <td>1</td>\n",
       "      <td>M</td>\n",
       "      <td>INGENIERÍA MECATRÓNICA</td>\n",
       "      <td>Colombia</td>\n",
       "      <td>Santander</td>\n",
       "      <td>Bucaramanga</td>\n",
       "      <td>6.0</td>\n",
       "      <td>0.0</td>\n",
       "      <td>Pregrado</td>\n",
       "      <td>3</td>\n",
       "      <td>c796be2b</td>\n",
       "      <td>1.0</td>\n",
       "    </tr>\n",
       "    <tr>\n",
       "      <th>4</th>\n",
       "      <td>2024</td>\n",
       "      <td>1</td>\n",
       "      <td>F</td>\n",
       "      <td>TRABAJO SOCIAL</td>\n",
       "      <td>Colombia</td>\n",
       "      <td>Antioquia</td>\n",
       "      <td>Santa Bárbara</td>\n",
       "      <td>5.0</td>\n",
       "      <td>4.0</td>\n",
       "      <td>Pregrado</td>\n",
       "      <td>2</td>\n",
       "      <td>0b4e80e2</td>\n",
       "      <td>NaN</td>\n",
       "    </tr>\n",
       "  </tbody>\n",
       "</table>\n",
       "</div>"
      ],
      "text/plain": [
       "    AÑO  SEMESTRE SEXO BIOLOGICO  \\\n",
       "0  2024         1              M   \n",
       "1  2024         1              M   \n",
       "2  2024         1              F   \n",
       "3  2024         1              M   \n",
       "4  2024         1              F   \n",
       "\n",
       "                                            PROGRAMA PAIS NACIMIENTO  \\\n",
       "0                         ADMINISTRACIÓN DE EMPRESAS        Colombia   \n",
       "1                     Ingeniería de Software y Datos        Colombia   \n",
       "2  ADMINISTRACIÓN DE EMPRESAS TURÍSTICAS Y HOTELERAS        Colombia   \n",
       "3                             INGENIERÍA MECATRÓNICA        Colombia   \n",
       "4                                     TRABAJO SOCIAL        Colombia   \n",
       "\n",
       "  DEPARTAMENTO NACIMIENTO MUNICIPIO NACIMIENTO  NUMERO MATERIAS INSCRITAS  \\\n",
       "0               Antioquia             Medellín                        7.0   \n",
       "1      Norte de Santander   San José de Cúcuta                        5.0   \n",
       "2               Magdalena                Plato                        6.0   \n",
       "3               Santander          Bucaramanga                        6.0   \n",
       "4               Antioquia        Santa Bárbara                        5.0   \n",
       "\n",
       "   NUMERO MATERIAS APROBADAS NIVEL_ACADEMICO ESTRATO ESTUDIANTE_ID DESERCION  \n",
       "0                        5.0        Pregrado       2      05aa3593       1.0  \n",
       "1                        5.0        Pregrado       2      ca26aead       0.0  \n",
       "2                        3.0        Pregrado       1      220d3011       0.0  \n",
       "3                        0.0        Pregrado       3      c796be2b       1.0  \n",
       "4                        4.0        Pregrado       2      0b4e80e2       NaN  "
      ]
     },
     "execution_count": 11,
     "metadata": {},
     "output_type": "execute_result"
    }
   ],
   "source": [
    "df_1.head()"
   ]
  },
  {
   "cell_type": "code",
   "execution_count": 24,
   "metadata": {},
   "outputs": [],
   "source": [
    "size_1 = (df_1['DESERCION'].astype(str) == '0.0').sum()\n",
    "size_2 = (df_1['DESERCION'].astype(str) == '1.0').sum()"
   ]
  },
  {
   "cell_type": "code",
   "execution_count": 25,
   "metadata": {},
   "outputs": [
    {
     "name": "stdout",
     "output_type": "stream",
     "text": [
      "-------------- DATOS --------------\n",
      "cantidad de datos para desercion 0: 15091\n",
      "cantidad de datos para desercion 1: 6453\n"
     ]
    }
   ],
   "source": [
    "print('-------------- DATOS --------------')\n",
    "print('cantidad de datos para desercion 0: {}'.format(size_1))\n",
    "print('cantidad de datos para desercion 1: {}'.format(size_2))"
   ]
  },
  {
   "cell_type": "code",
   "execution_count": 26,
   "metadata": {},
   "outputs": [
    {
     "data": {
      "text/plain": [
       "DESERCION\n",
       "0.0        15091\n",
       "1.0         6453\n",
       "no_dato     1193\n",
       "NaN         1123\n",
       "Name: count, dtype: int64"
      ]
     },
     "execution_count": 26,
     "metadata": {},
     "output_type": "execute_result"
    }
   ],
   "source": [
    "df_1['DESERCION'].value_counts(dropna=False)\n"
   ]
  }
 ],
 "metadata": {
  "kernelspec": {
   "display_name": "electiva_datos",
   "language": "python",
   "name": "python3"
  },
  "language_info": {
   "codemirror_mode": {
    "name": "ipython",
    "version": 3
   },
   "file_extension": ".py",
   "mimetype": "text/x-python",
   "name": "python",
   "nbconvert_exporter": "python",
   "pygments_lexer": "ipython3",
   "version": "3.10.16"
  }
 },
 "nbformat": 4,
 "nbformat_minor": 2
}
