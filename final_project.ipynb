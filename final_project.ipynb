{
 "cells": [
  {
   "cell_type": "markdown",
   "metadata": {},
   "source": [
    "# Proyecto de mineria de Datos - Electiva III Datos"
   ]
  },
  {
   "cell_type": "markdown",
   "metadata": {},
   "source": [
    "## **Descripcion del proyecto**\n",
    "--- \n",
    "\n",
    "**Modelo predictivo para la desercion de estudiantes en la Institucion Universitaria Digital de Antioquia**\n",
    "\n",
    "bla bla bla"
   ]
  },
  {
   "cell_type": "markdown",
   "metadata": {},
   "source": [
    "## Fase 2 - Comprension de los datos"
   ]
  },
  {
   "cell_type": "code",
   "execution_count": null,
   "metadata": {},
   "outputs": [],
   "source": [
    "import pandas as pd\n",
    "import matplotlib.pyplot as plt\n",
    "import seaborn as sns"
   ]
  },
  {
   "cell_type": "code",
   "execution_count": 25,
   "metadata": {},
   "outputs": [],
   "source": [
    "import importlib\n",
    "from utils import data_utils\n"
   ]
  },
  {
   "cell_type": "code",
   "execution_count": 26,
   "metadata": {},
   "outputs": [],
   "source": [
    "dutil = data_utils()"
   ]
  },
  {
   "cell_type": "code",
   "execution_count": 2,
   "metadata": {},
   "outputs": [],
   "source": [
    "df_1 = pd.read_csv('resources/IUDigital.csv')\n",
    "df_2 = pd.read_csv('resources/estratos_colombia_detallado.csv')"
   ]
  },
  {
   "cell_type": "code",
   "execution_count": 7,
   "metadata": {},
   "outputs": [
    {
     "data": {
      "text/html": [
       "<div>\n",
       "<style scoped>\n",
       "    .dataframe tbody tr th:only-of-type {\n",
       "        vertical-align: middle;\n",
       "    }\n",
       "\n",
       "    .dataframe tbody tr th {\n",
       "        vertical-align: top;\n",
       "    }\n",
       "\n",
       "    .dataframe thead th {\n",
       "        text-align: right;\n",
       "    }\n",
       "</style>\n",
       "<table border=\"1\" class=\"dataframe\">\n",
       "  <thead>\n",
       "    <tr style=\"text-align: right;\">\n",
       "      <th></th>\n",
       "      <th>AÑO</th>\n",
       "      <th>SEMESTRE</th>\n",
       "      <th>SEXO BIOLOGICO</th>\n",
       "      <th>PROGRAMA</th>\n",
       "      <th>PAIS NACIMIENTO</th>\n",
       "      <th>DEPARTAMENTO NACIMIENTO</th>\n",
       "      <th>MUNICIPIO NACIMIENTO</th>\n",
       "      <th>NUMERO MATERIAS INSCRITAS</th>\n",
       "      <th>NUMERO MATERIAS APROBADAS</th>\n",
       "      <th>NIVEL_ACADEMICO</th>\n",
       "      <th>ESTRATO</th>\n",
       "      <th>ESTUDIANTE_ID</th>\n",
       "      <th>DESERCION</th>\n",
       "    </tr>\n",
       "  </thead>\n",
       "  <tbody>\n",
       "    <tr>\n",
       "      <th>0</th>\n",
       "      <td>2024</td>\n",
       "      <td>1</td>\n",
       "      <td>M</td>\n",
       "      <td>ADMINISTRACIÓN DE EMPRESAS</td>\n",
       "      <td>Colombia</td>\n",
       "      <td>Antioquia</td>\n",
       "      <td>Medellín</td>\n",
       "      <td>7.0</td>\n",
       "      <td>5.0</td>\n",
       "      <td>Pregrado</td>\n",
       "      <td>2</td>\n",
       "      <td>05aa3593</td>\n",
       "      <td>1.0</td>\n",
       "    </tr>\n",
       "    <tr>\n",
       "      <th>1</th>\n",
       "      <td>2024</td>\n",
       "      <td>1</td>\n",
       "      <td>M</td>\n",
       "      <td>Ingeniería de Software y Datos</td>\n",
       "      <td>Colombia</td>\n",
       "      <td>Norte de Santander</td>\n",
       "      <td>San José de Cúcuta</td>\n",
       "      <td>5.0</td>\n",
       "      <td>5.0</td>\n",
       "      <td>Pregrado</td>\n",
       "      <td>2</td>\n",
       "      <td>ca26aead</td>\n",
       "      <td>0.0</td>\n",
       "    </tr>\n",
       "    <tr>\n",
       "      <th>2</th>\n",
       "      <td>2024</td>\n",
       "      <td>1</td>\n",
       "      <td>F</td>\n",
       "      <td>ADMINISTRACIÓN DE EMPRESAS TURÍSTICAS Y HOTELERAS</td>\n",
       "      <td>Colombia</td>\n",
       "      <td>Magdalena</td>\n",
       "      <td>Plato</td>\n",
       "      <td>6.0</td>\n",
       "      <td>3.0</td>\n",
       "      <td>Pregrado</td>\n",
       "      <td>1</td>\n",
       "      <td>220d3011</td>\n",
       "      <td>0.0</td>\n",
       "    </tr>\n",
       "    <tr>\n",
       "      <th>3</th>\n",
       "      <td>2024</td>\n",
       "      <td>1</td>\n",
       "      <td>M</td>\n",
       "      <td>INGENIERÍA MECATRÓNICA</td>\n",
       "      <td>Colombia</td>\n",
       "      <td>Santander</td>\n",
       "      <td>Bucaramanga</td>\n",
       "      <td>6.0</td>\n",
       "      <td>0.0</td>\n",
       "      <td>Pregrado</td>\n",
       "      <td>3</td>\n",
       "      <td>c796be2b</td>\n",
       "      <td>1.0</td>\n",
       "    </tr>\n",
       "    <tr>\n",
       "      <th>4</th>\n",
       "      <td>2024</td>\n",
       "      <td>1</td>\n",
       "      <td>F</td>\n",
       "      <td>TRABAJO SOCIAL</td>\n",
       "      <td>Colombia</td>\n",
       "      <td>Antioquia</td>\n",
       "      <td>Santa Bárbara</td>\n",
       "      <td>5.0</td>\n",
       "      <td>4.0</td>\n",
       "      <td>Pregrado</td>\n",
       "      <td>2</td>\n",
       "      <td>0b4e80e2</td>\n",
       "      <td>NaN</td>\n",
       "    </tr>\n",
       "  </tbody>\n",
       "</table>\n",
       "</div>"
      ],
      "text/plain": [
       "    AÑO  SEMESTRE SEXO BIOLOGICO  \\\n",
       "0  2024         1              M   \n",
       "1  2024         1              M   \n",
       "2  2024         1              F   \n",
       "3  2024         1              M   \n",
       "4  2024         1              F   \n",
       "\n",
       "                                            PROGRAMA PAIS NACIMIENTO  \\\n",
       "0                         ADMINISTRACIÓN DE EMPRESAS        Colombia   \n",
       "1                     Ingeniería de Software y Datos        Colombia   \n",
       "2  ADMINISTRACIÓN DE EMPRESAS TURÍSTICAS Y HOTELERAS        Colombia   \n",
       "3                             INGENIERÍA MECATRÓNICA        Colombia   \n",
       "4                                     TRABAJO SOCIAL        Colombia   \n",
       "\n",
       "  DEPARTAMENTO NACIMIENTO MUNICIPIO NACIMIENTO  NUMERO MATERIAS INSCRITAS  \\\n",
       "0               Antioquia             Medellín                        7.0   \n",
       "1      Norte de Santander   San José de Cúcuta                        5.0   \n",
       "2               Magdalena                Plato                        6.0   \n",
       "3               Santander          Bucaramanga                        6.0   \n",
       "4               Antioquia        Santa Bárbara                        5.0   \n",
       "\n",
       "   NUMERO MATERIAS APROBADAS NIVEL_ACADEMICO ESTRATO ESTUDIANTE_ID DESERCION  \n",
       "0                        5.0        Pregrado       2      05aa3593       1.0  \n",
       "1                        5.0        Pregrado       2      ca26aead       0.0  \n",
       "2                        3.0        Pregrado       1      220d3011       0.0  \n",
       "3                        0.0        Pregrado       3      c796be2b       1.0  \n",
       "4                        4.0        Pregrado       2      0b4e80e2       NaN  "
      ]
     },
     "execution_count": 7,
     "metadata": {},
     "output_type": "execute_result"
    }
   ],
   "source": [
    "# Primeras lineas de los datasets\n",
    "df_1.head()"
   ]
  },
  {
   "cell_type": "code",
   "execution_count": 6,
   "metadata": {},
   "outputs": [
    {
     "data": {
      "text/html": [
       "<div>\n",
       "<style scoped>\n",
       "    .dataframe tbody tr th:only-of-type {\n",
       "        vertical-align: middle;\n",
       "    }\n",
       "\n",
       "    .dataframe tbody tr th {\n",
       "        vertical-align: top;\n",
       "    }\n",
       "\n",
       "    .dataframe thead th {\n",
       "        text-align: right;\n",
       "    }\n",
       "</style>\n",
       "<table border=\"1\" class=\"dataframe\">\n",
       "  <thead>\n",
       "    <tr style=\"text-align: right;\">\n",
       "      <th></th>\n",
       "      <th>Estrato</th>\n",
       "      <th>Nombre</th>\n",
       "      <th>Descripción</th>\n",
       "      <th>Nivel de Ingreso Promedio (COP)</th>\n",
       "      <th>Acceso a Servicios Públicos</th>\n",
       "      <th>Tipo de Vivienda Común</th>\n",
       "      <th>Contribución o Subsidio</th>\n",
       "      <th>Ejemplo de Ciudades con este Estrato</th>\n",
       "    </tr>\n",
       "  </thead>\n",
       "  <tbody>\n",
       "    <tr>\n",
       "      <th>0</th>\n",
       "      <td>1</td>\n",
       "      <td>Bajo-Bajo</td>\n",
       "      <td>Zonas con infraestructura precaria, viviendas ...</td>\n",
       "      <td>Menos de 1 SMMLV</td>\n",
       "      <td>Limitado, con interrupciones frecuentes.</td>\n",
       "      <td>Casas improvisadas o en asentamientos informales.</td>\n",
       "      <td>Recibe alto subsidio en servicios públicos.</td>\n",
       "      <td>Barrios periféricos en ciudades como Bogotá (C...</td>\n",
       "    </tr>\n",
       "    <tr>\n",
       "      <th>1</th>\n",
       "      <td>2</td>\n",
       "      <td>Bajo</td>\n",
       "      <td>Barrios con acceso parcial a servicios básicos...</td>\n",
       "      <td>Entre 1 y 2 SMMLV</td>\n",
       "      <td>Básico, con algunas limitaciones en calidad.</td>\n",
       "      <td>Casas de interés social o en barrios populares.</td>\n",
       "      <td>Recibe subsidios en servicios públicos.</td>\n",
       "      <td>Barrios populares en ciudades principales y mu...</td>\n",
       "    </tr>\n",
       "    <tr>\n",
       "      <th>2</th>\n",
       "      <td>3</td>\n",
       "      <td>Medio-Bajo</td>\n",
       "      <td>Sectores con acceso a servicios públicos, vivi...</td>\n",
       "      <td>Entre 2 y 4 SMMLV</td>\n",
       "      <td>Completo, aunque con posibilidad de fallos.</td>\n",
       "      <td>Casas y apartamentos de nivel medio.</td>\n",
       "      <td>No recibe subsidios ni contribuciones.</td>\n",
       "      <td>Sectores de clase media emergente en ciudades ...</td>\n",
       "    </tr>\n",
       "    <tr>\n",
       "      <th>3</th>\n",
       "      <td>4</td>\n",
       "      <td>Medio</td>\n",
       "      <td>Zonas urbanas con infraestructura completa, vi...</td>\n",
       "      <td>Entre 4 y 10 SMMLV</td>\n",
       "      <td>Óptimo, con buena calidad.</td>\n",
       "      <td>Casas y apartamentos en sectores tradicionales.</td>\n",
       "      <td>Tarifa estándar en servicios públicos.</td>\n",
       "      <td>Zonas urbanas con población de clase media est...</td>\n",
       "    </tr>\n",
       "    <tr>\n",
       "      <th>4</th>\n",
       "      <td>5</td>\n",
       "      <td>Medio-Alto</td>\n",
       "      <td>Sectores con edificaciones modernas, acceso a ...</td>\n",
       "      <td>Entre 10 y 20 SMMLV</td>\n",
       "      <td>Excelente, con disponibilidad garantizada.</td>\n",
       "      <td>Edificios modernos y condominios residenciales.</td>\n",
       "      <td>Contribuye al subsidio de los estratos bajos.</td>\n",
       "      <td>Barrios residenciales en sectores de alto desa...</td>\n",
       "    </tr>\n",
       "  </tbody>\n",
       "</table>\n",
       "</div>"
      ],
      "text/plain": [
       "   Estrato      Nombre                                        Descripción  \\\n",
       "0        1   Bajo-Bajo  Zonas con infraestructura precaria, viviendas ...   \n",
       "1        2        Bajo  Barrios con acceso parcial a servicios básicos...   \n",
       "2        3  Medio-Bajo  Sectores con acceso a servicios públicos, vivi...   \n",
       "3        4       Medio  Zonas urbanas con infraestructura completa, vi...   \n",
       "4        5  Medio-Alto  Sectores con edificaciones modernas, acceso a ...   \n",
       "\n",
       "  Nivel de Ingreso Promedio (COP)  \\\n",
       "0                Menos de 1 SMMLV   \n",
       "1               Entre 1 y 2 SMMLV   \n",
       "2               Entre 2 y 4 SMMLV   \n",
       "3              Entre 4 y 10 SMMLV   \n",
       "4             Entre 10 y 20 SMMLV   \n",
       "\n",
       "                    Acceso a Servicios Públicos  \\\n",
       "0      Limitado, con interrupciones frecuentes.   \n",
       "1  Básico, con algunas limitaciones en calidad.   \n",
       "2   Completo, aunque con posibilidad de fallos.   \n",
       "3                    Óptimo, con buena calidad.   \n",
       "4    Excelente, con disponibilidad garantizada.   \n",
       "\n",
       "                              Tipo de Vivienda Común  \\\n",
       "0  Casas improvisadas o en asentamientos informales.   \n",
       "1    Casas de interés social o en barrios populares.   \n",
       "2               Casas y apartamentos de nivel medio.   \n",
       "3    Casas y apartamentos en sectores tradicionales.   \n",
       "4    Edificios modernos y condominios residenciales.   \n",
       "\n",
       "                         Contribución o Subsidio  \\\n",
       "0    Recibe alto subsidio en servicios públicos.   \n",
       "1        Recibe subsidios en servicios públicos.   \n",
       "2         No recibe subsidios ni contribuciones.   \n",
       "3         Tarifa estándar en servicios públicos.   \n",
       "4  Contribuye al subsidio de los estratos bajos.   \n",
       "\n",
       "                Ejemplo de Ciudades con este Estrato  \n",
       "0  Barrios periféricos en ciudades como Bogotá (C...  \n",
       "1  Barrios populares en ciudades principales y mu...  \n",
       "2  Sectores de clase media emergente en ciudades ...  \n",
       "3  Zonas urbanas con población de clase media est...  \n",
       "4  Barrios residenciales en sectores de alto desa...  "
      ]
     },
     "execution_count": 6,
     "metadata": {},
     "output_type": "execute_result"
    }
   ],
   "source": [
    "df_2.head()"
   ]
  },
  {
   "cell_type": "code",
   "execution_count": null,
   "metadata": {},
   "outputs": [
    {
     "name": "stdout",
     "output_type": "stream",
     "text": [
      "result: El dataset tiene 23860 filas y 13 columas\n"
     ]
    }
   ],
   "source": [
    "# Tamaño del dataset\n",
    "print(dutil.get_basic_data(df_1))"
   ]
  },
  {
   "cell_type": "code",
   "execution_count": 27,
   "metadata": {},
   "outputs": [
    {
     "name": "stdout",
     "output_type": "stream",
     "text": [
      "-------------- DATA INFO --------------\n",
      "<class 'pandas.core.frame.DataFrame'>\n",
      "RangeIndex: 23860 entries, 0 to 23859\n",
      "Data columns (total 13 columns):\n",
      " #   Column                     Non-Null Count  Dtype  \n",
      "---  ------                     --------------  -----  \n",
      " 0   AÑO                        23860 non-null  int64  \n",
      " 1   SEMESTRE                   23860 non-null  int64  \n",
      " 2   SEXO BIOLOGICO             23860 non-null  object \n",
      " 3   PROGRAMA                   23860 non-null  object \n",
      " 4   PAIS NACIMIENTO            23860 non-null  object \n",
      " 5   DEPARTAMENTO NACIMIENTO    23758 non-null  object \n",
      " 6   MUNICIPIO NACIMIENTO       23758 non-null  object \n",
      " 7   NUMERO MATERIAS INSCRITAS  22434 non-null  float64\n",
      " 8   NUMERO MATERIAS APROBADAS  22434 non-null  float64\n",
      " 9   NIVEL_ACADEMICO            23860 non-null  object \n",
      " 10  ESTRATO                    21008 non-null  object \n",
      " 11  ESTUDIANTE_ID              23860 non-null  object \n",
      " 12  DESERCION                  22737 non-null  object \n",
      "dtypes: float64(2), int64(2), object(9)\n",
      "memory usage: 2.4+ MB\n",
      "None\n",
      "AÑO                             0\n",
      "SEMESTRE                        0\n",
      "SEXO BIOLOGICO                  0\n",
      "PROGRAMA                        0\n",
      "PAIS NACIMIENTO                 0\n",
      "DEPARTAMENTO NACIMIENTO       102\n",
      "MUNICIPIO NACIMIENTO          102\n",
      "NUMERO MATERIAS INSCRITAS    1426\n",
      "NUMERO MATERIAS APROBADAS    1426\n",
      "NIVEL_ACADEMICO                 0\n",
      "ESTRATO                      2852\n",
      "ESTUDIANTE_ID                   0\n",
      "DESERCION                    1123\n",
      "dtype: int64\n",
      "           AÑO     SEMESTRE  NUMERO MATERIAS INSCRITAS  \\\n",
      "count  23860.0  23860.00000               22434.000000   \n",
      "mean    2024.0      1.50000                   6.046224   \n",
      "std        0.0      0.50001                   1.906253   \n",
      "min     2024.0      1.00000                   1.000000   \n",
      "25%     2024.0      1.00000                   5.000000   \n",
      "50%     2024.0      1.50000                   7.000000   \n",
      "75%     2024.0      2.00000                   7.000000   \n",
      "max     2024.0      2.00000                  12.000000   \n",
      "\n",
      "       NUMERO MATERIAS APROBADAS  \n",
      "count               22434.000000  \n",
      "mean                    4.538602  \n",
      "std                     2.842710  \n",
      "min                     0.000000  \n",
      "25%                     2.000000  \n",
      "50%                     5.000000  \n",
      "75%                     7.000000  \n",
      "max                    12.000000  \n",
      "AÑO                              1\n",
      "SEMESTRE                         2\n",
      "SEXO BIOLOGICO                   3\n",
      "PROGRAMA                       110\n",
      "PAIS NACIMIENTO                  8\n",
      "DEPARTAMENTO NACIMIENTO         65\n",
      "MUNICIPIO NACIMIENTO           718\n",
      "NUMERO MATERIAS INSCRITAS       12\n",
      "NUMERO MATERIAS APROBADAS       13\n",
      "NIVEL_ACADEMICO                  3\n",
      "ESTRATO                          8\n",
      "ESTUDIANTE_ID                11930\n",
      "DESERCION                        3\n",
      "dtype: int64\n"
     ]
    }
   ],
   "source": [
    "dutil.get_complete_info(df_1, {'show': True})"
   ]
  },
  {
   "cell_type": "code",
   "execution_count": 28,
   "metadata": {},
   "outputs": [],
   "source": [
    "values = dutil.get_complete_info(df_1, {'all': True})"
   ]
  },
  {
   "cell_type": "code",
   "execution_count": 31,
   "metadata": {},
   "outputs": [
    {
     "name": "stdout",
     "output_type": "stream",
     "text": [
      "AÑO                             0\n",
      "SEMESTRE                        0\n",
      "SEXO BIOLOGICO                  0\n",
      "PROGRAMA                        0\n",
      "PAIS NACIMIENTO                 0\n",
      "DEPARTAMENTO NACIMIENTO       102\n",
      "MUNICIPIO NACIMIENTO          102\n",
      "NUMERO MATERIAS INSCRITAS    1426\n",
      "NUMERO MATERIAS APROBADAS    1426\n",
      "NIVEL_ACADEMICO                 0\n",
      "ESTRATO                      2852\n",
      "ESTUDIANTE_ID                   0\n",
      "DESERCION                    1123\n",
      "dtype: int64\n"
     ]
    }
   ],
   "source": [
    "print(values.get('sum_isnull'))"
   ]
  },
  {
   "cell_type": "code",
   "execution_count": 32,
   "metadata": {},
   "outputs": [],
   "source": [
    "values_2 = dutil.get_complete_info(df_2, {'all': True})"
   ]
  },
  {
   "cell_type": "code",
   "execution_count": 35,
   "metadata": {},
   "outputs": [
    {
     "name": "stdout",
     "output_type": "stream",
     "text": [
      "Estrato                                 0\n",
      "Nombre                                  0\n",
      "Descripción                             0\n",
      "Nivel de Ingreso Promedio (COP)         0\n",
      "Acceso a Servicios Públicos             0\n",
      "Tipo de Vivienda Común                  0\n",
      "Contribución o Subsidio                 0\n",
      "Ejemplo de Ciudades con este Estrato    0\n",
      "dtype: int64\n"
     ]
    }
   ],
   "source": [
    "print(values_2.get('sum_isnull'))"
   ]
  },
  {
   "cell_type": "code",
   "execution_count": null,
   "metadata": {},
   "outputs": [],
   "source": [
    "#dutil.generate_graphic(df_1, x='EDAD', kind='hist', config={'title': 'Distribución de Edades', 'bins': 30, 'color': 'blue'})\n"
   ]
  },
  {
   "cell_type": "code",
   "execution_count": null,
   "metadata": {},
   "outputs": [],
   "source": [
    "dutil.generate_graphic(df_1, x='')"
   ]
  }
 ],
 "metadata": {
  "kernelspec": {
   "display_name": "electiva_datos",
   "language": "python",
   "name": "python3"
  },
  "language_info": {
   "codemirror_mode": {
    "name": "ipython",
    "version": 3
   },
   "file_extension": ".py",
   "mimetype": "text/x-python",
   "name": "python",
   "nbconvert_exporter": "python",
   "pygments_lexer": "ipython3",
   "version": "3.10.16"
  }
 },
 "nbformat": 4,
 "nbformat_minor": 2
}
